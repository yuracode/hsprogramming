{
  "nbformat": 4,
  "nbformat_minor": 0,
  "metadata": {
    "colab": {
      "provenance": [],
      "toc_visible": true,
      "authorship_tag": "ABX9TyNg0zjQCnT1+lSu6VNvR4NF",
      "include_colab_link": true
    },
    "kernelspec": {
      "name": "python3",
      "display_name": "Python 3"
    },
    "language_info": {
      "name": "python"
    }
  },
  "cells": [
    {
      "cell_type": "markdown",
      "metadata": {
        "id": "view-in-github",
        "colab_type": "text"
      },
      "source": [
        "<a href=\"https://colab.research.google.com/github/hirossk/0628Python/blob/main/3.Gradio(Web%E3%82%A4%E3%83%B3%E3%82%BF%E3%83%95%E3%82%A7%E3%83%BC%E3%82%B9)%E3%81%AE%E5%9F%BA%E6%9C%AC.ipynb\" target=\"_parent\"><img src=\"https://colab.research.google.com/assets/colab-badge.svg\" alt=\"Open In Colab\"/></a>"
      ]
    },
    {
      "cell_type": "markdown",
      "source": [
        "# Gradioを使ったインタフェースを作ります。\n",
        "\n",
        "Gradio？というかたは「[Gradioとは？](https://www.google.co.jp/search?client=ubuntu&channel=fs&q=gradio%E3%81%A8%E3%81%AF%EF%BC%9F&ie=utf-8&oe=utf-8&hl=ja)」で検索してみましょう。\n",
        "\n",
        "https://www.gradio.app/"
      ],
      "metadata": {
        "id": "ZNlnk7XZVkwm"
      }
    },
    {
      "cell_type": "markdown",
      "source": [
        "## 最初に環境設定を行います\n",
        "Gradio（グラディオ）は入出力や機械学習に最適化できるシステム開発環境を提供してくれます。\n",
        "\n",
        "最初に次のコードを実行して環境を設定します。"
      ],
      "metadata": {
        "id": "qZV5ZnRUVphb"
      }
    },
    {
      "cell_type": "code",
      "execution_count": null,
      "metadata": {
        "id": "VMouqhSRVRbl"
      },
      "outputs": [],
      "source": [
        "!pip install gradio"
      ]
    },
    {
      "cell_type": "markdown",
      "source": [
        "## インタフェースを使ったprogrammingの基本\n",
        "\n",
        "文字列の入力と出力をしてみましょう。\n",
        "入力用エリアと出力用エリアを使ってみましょう。"
      ],
      "metadata": {
        "id": "Id-s1xFCVisX"
      }
    },
    {
      "cell_type": "code",
      "source": [
        "import gradio as gr\n",
        "\n",
        "def greet(name): #greetとは挨拶という意味\n",
        "    return \"Hello \" + name + \"!\"\n",
        "\n",
        "#inputsは入力領域、outputsは出力領域\n",
        "demo = gr.Interface(fn=greet, inputs=\"text\", outputs=\"text\")\n",
        "# 表示する\n",
        "demo.launch()"
      ],
      "metadata": {
        "id": "F_WfhckuVUBC"
      },
      "execution_count": null,
      "outputs": []
    },
    {
      "cell_type": "markdown",
      "source": [
        "## テキストとスライダーを使ってみる"
      ],
      "metadata": {
        "id": "KPTIMV9XthVl"
      }
    },
    {
      "cell_type": "code",
      "source": [
        "import gradio as gr\n",
        "\n",
        "# 名前とスライダーによる数値を受け取る\n",
        "def greet(name, intensity):\n",
        "    return \"Hello, \" + name + \"!\" * int(intensity)\n",
        "\n",
        "demo = gr.Interface(\n",
        "    fn=greet,\n",
        "    # 入力領域を文字とスライダーにしてみる\n",
        "    inputs=[\"text\", \"slider\"],\n",
        "    outputs=[\"text\"],\n",
        ")\n",
        "\n",
        "demo.launch()"
      ],
      "metadata": {
        "id": "8ghd7SKOtgES"
      },
      "execution_count": null,
      "outputs": []
    },
    {
      "cell_type": "markdown",
      "source": [
        "## 入力エリアにラベルを追加する\n",
        "\n",
        "見た目を整えてみましょう。\n"
      ],
      "metadata": {
        "id": "bdjHyQUnXcTZ"
      }
    },
    {
      "cell_type": "code",
      "source": [
        "import gradio as gr\n",
        "\n",
        "def greet(name): #挨拶という意味\n",
        "    return \"Hello \" + name + \"!\"\n",
        "\n",
        "# 入力エリアにラベルを追加\n",
        "name = gr.Textbox(label=\"お名前をどうぞ\")\n",
        "output = gr.Textbox(label=\"挨拶\")\n",
        "\n",
        "#inputs,outputsにラベルを設定したものを使う\n",
        "demo = gr.Interface(fn=greet, inputs=name, outputs=output)\n",
        "\n",
        "demo.launch()"
      ],
      "metadata": {
        "id": "n_c-U9p0W37T"
      },
      "execution_count": null,
      "outputs": []
    },
    {
      "cell_type": "markdown",
      "source": [
        "## 苗字と名前を入力させる\n",
        "\n",
        "入力エリアを２つにしてみましょう。"
      ],
      "metadata": {
        "id": "a6KlxITQXt3l"
      }
    },
    {
      "cell_type": "code",
      "source": [
        "import gradio as gr\n",
        "\n",
        "def greet(firstname,lastname): #挨拶という意味\n",
        "    return \"こんにちは \" + lastname + firstname + \"さん!\"\n",
        "\n",
        "# 入力エリアにラベルを追加\n",
        "firstname = gr.Textbox(label=\"名前をどうぞ\")\n",
        "lastname = gr.Textbox(label=\"苗字をどうぞ\")\n",
        "\n",
        "output = gr.Textbox(label=\"挨拶\")\n",
        "\n",
        "#Pythonのリストを使って入力エリアを二つ確保している\n",
        "demo = gr.Interface(fn=greet, inputs=[firstname,lastname], outputs=output)\n",
        "\n",
        "demo.launch()"
      ],
      "metadata": {
        "id": "yapWOv3SX0Cy"
      },
      "execution_count": null,
      "outputs": []
    },
    {
      "cell_type": "markdown",
      "source": [
        "# 少しだけ使えそうなことをやってみましょう。\n",
        "\n"
      ],
      "metadata": {
        "id": "izq1o4qJufFg"
      }
    },
    {
      "cell_type": "code",
      "source": [
        "import gradio as gr\n",
        "from datetime import datetime\n",
        "\n",
        "def birthofday(name,year,month,day): #今何日目？\n",
        "    return \"こんにちは \" + name + \"さん!\\n\" + \\\n",
        "      \"あなたの生まれた日は\" + str(year) + \"年\" + str(month) + \"月\" + str(day) + \"日です。\"\n",
        "    # #現在の日付\n",
        "    # today = datetime.today()\n",
        "    # #生年月日\n",
        "    # birthday = datetime(year,month,day)\n",
        "    # #経過日数計算\n",
        "    # ans = today - birthday #str(ans.days)\n",
        "    # return name + \"さん!\"\n",
        "\n",
        "# 入力エリアにラベルを追加\n",
        "name = gr.Textbox(label=\"お名前をどうぞ\")\n",
        "# year = gr.Number(label=\"生まれた年\",minimum=1970,maximum=2024,value=2006)\n",
        "# month = gr.Number(label=\"生まれた月\",minimum=1,maximum=12,value=6)\n",
        "# day = gr.Number(label=\"生まれた日\",minimum=1,maximum=31,value=15)\n",
        "\n",
        "output = gr.Textbox(label=\"結果・・・\")\n",
        "\n",
        "#Pythonのリストを使って入力エリアを４つ確保している\n",
        "demo = gr.Interface(fn=birthofday, inputs=[name], outputs=output)\n",
        "\n",
        "demo.launch()"
      ],
      "metadata": {
        "id": "JBOLcnBnukAb"
      },
      "execution_count": null,
      "outputs": []
    },
    {
      "cell_type": "markdown",
      "source": [
        "## 色を変えてみる\n",
        "\n",
        "スライダーを使って光の三原色を変更してみましょう。"
      ],
      "metadata": {
        "id": "NFe9Ia-6ZnkG"
      }
    },
    {
      "cell_type": "code",
      "source": [
        "import gradio as gr\n",
        "from PIL import Image, ImageDraw, ImageFont\n",
        "\n",
        "#出力エリアに設定するイメージを用意する\n",
        "\n",
        "im = Image.new('RGB', (500, 300),( 0, 0, 0))\n",
        "draw = ImageDraw.Draw(im)\n",
        "\n",
        "def change(red,green,blue): #データが変更された場合\n",
        "    draw.rectangle((0, 0, 500, 300), fill=(red, green, blue))\n",
        "    return im\n",
        "\n",
        "# 入力エリアにスライダーを赤・緑・青の光の３原色で設定する\n",
        "red = gr.Slider(label = \"赤\",minimum=0,maximum=255)\n",
        "green = gr.Slider(label = \"緑\",minimum=0,maximum=255)\n",
        "blue = gr.Slider(label = \"青\",minimum=0,maximum=255)\n",
        "\n",
        "#出力エリアをイメージにする\n",
        "output = gr.Image(im,type='pil')\n",
        "\n",
        "#inputsに３つのスライダーを使う\n",
        "#live=Trueでリアルタイムで更新を行う。\n",
        "demo = gr.Interface(fn=change, inputs=[red,green,blue], outputs=output,live=True)\n",
        "\n",
        "demo.launch()"
      ],
      "metadata": {
        "id": "WQaPOcF0ZrMe"
      },
      "execution_count": null,
      "outputs": []
    },
    {
      "cell_type": "markdown",
      "source": [
        "## ラジオボタン\n",
        "\n",
        "ラジオボタンを使って計算してみましょう。"
      ],
      "metadata": {
        "id": "vLsXuSPYeWrE"
      }
    },
    {
      "cell_type": "code",
      "source": [
        "import gradio as gr\n",
        "\n",
        "def calc(num1,ope,num2): #計算を行う\n",
        "    if ope == \"add\":\n",
        "        return str(num1 + num2)\n",
        "    # elif ope == \"\":\n",
        "    #     return str(num1 - num2)\n",
        "    # elif ope == \"\":\n",
        "    #     return str(num1 * num2)\n",
        "    # elif ope == \"\":\n",
        "    #     return str(num1 / num2)\n",
        "    return 0\n",
        "\n",
        "# 入力エリア(ラジオボタン)に４つ入力エリアを作成し\"add\"をデフォルトにする\n",
        "radio = gr.Radio([\"add\"], value = \"add\")\n",
        "\n",
        "#数値項目、ラジオボタン、数値項目の順で入力エリアを設定する\n",
        "demo = gr.Interface(fn=calc, inputs=[\"number\",radio,\"number\"], outputs=\"text\",live=True)\n",
        "\n",
        "demo.launch()"
      ],
      "metadata": {
        "id": "DNGBCi0seaFr"
      },
      "execution_count": null,
      "outputs": []
    },
    {
      "cell_type": "markdown",
      "source": [
        "## グラフの表示\n",
        "\n",
        "スライダーの値を読み取って棒グラフにしましょう。"
      ],
      "metadata": {
        "id": "uMkFt8bTg-mB"
      }
    },
    {
      "cell_type": "code",
      "source": [
        "import pandas as pd\n",
        "import gradio as gr\n",
        "\n",
        "def plot(a,b,c):\n",
        "    df = pd.DataFrame({\"x\":['a','b','c'] , \"y\": [a,b,c]})\n",
        "    return df\n",
        "\n",
        "with gr.Blocks() as demo:\n",
        "    # 横方向にスライダーを配置しています。\n",
        "    with gr.Row() as row:\n",
        "        A = gr.Slider(label = \"A\",minimum=0, maximum=255, step=5)\n",
        "        B = gr.Slider(label = \"B\",minimum=0, maximum=255, step=5)\n",
        "        C = gr.Slider(label = \"B\",minimum=0, maximum=255, step=5)\n",
        "\n",
        "    #グラフの生成はmatplotlibに似ています。\n",
        "    output = gr.BarPlot(\n",
        "        x=\"x\",\n",
        "        y=\"y\",\n",
        "        tooltip=[\"x\", \"y\"],\n",
        "        width=350,\n",
        "        height=300,\n",
        "    )\n",
        "    A.change(plot, [A, B, C], output)\n",
        "    B.change(plot, [A, B, C], output)\n",
        "    C.change(plot, [A, B, C], output)\n",
        "\n",
        "if __name__ == \"__main__\":\n",
        "    demo.launch()"
      ],
      "metadata": {
        "id": "FFDpHJ6wg9wO"
      },
      "execution_count": null,
      "outputs": []
    },
    {
      "cell_type": "markdown",
      "source": [
        "## 画像の読み込み\n",
        "\n",
        "画像を読み込んでセピア色に変えてみます。"
      ],
      "metadata": {
        "id": "WMdPEmobBalb"
      }
    },
    {
      "cell_type": "code",
      "source": [
        "import numpy as np\n",
        "import gradio as gr\n",
        "\n",
        "# 写真をセピア色に変換しています\n",
        "def sepia(input_img):\n",
        "    sepia_filter = np.array([\n",
        "        [0.393, 0.769, 0.189],\n",
        "        [0.349, 0.686, 0.168],\n",
        "        [0.272, 0.534, 0.131]\n",
        "    ])\n",
        "    sepia_img = input_img.dot(sepia_filter.T)\n",
        "    sepia_img /= sepia_img.max()\n",
        "    return sepia_img\n",
        "\n",
        "demo = gr.Interface(sepia, gr.Image(), outputs=\"image\")\n",
        "if __name__ == \"__main__\":\n",
        "    demo.launch()"
      ],
      "metadata": {
        "id": "loglWHN2BSQk"
      },
      "execution_count": null,
      "outputs": []
    },
    {
      "cell_type": "markdown",
      "source": [
        "## AIによる判定\n",
        "\n",
        "学習済みモデルのニューラルネットワークを使って画像を読み込んで解析してみましょう。"
      ],
      "metadata": {
        "id": "EPQtGOOcCGHt"
      }
    },
    {
      "cell_type": "code",
      "source": [
        "import gradio as gr\n",
        "import requests\n",
        "import torch\n",
        "import torch.nn as nn\n",
        "from PIL import Image\n",
        "from torchvision.models import resnet50\n",
        "from torchvision.transforms import functional as F"
      ],
      "metadata": {
        "id": "c6tB2Nb9CVKX"
      },
      "execution_count": null,
      "outputs": []
    },
    {
      "cell_type": "code",
      "source": [
        "def main():\n",
        "    # モデルの準備\n",
        "    model = resnet50(pretrained=True)\n",
        "    model.eval()\n",
        "\n",
        "    # ImageNetのラベルの取得\n",
        "    response = requests.get(\"https://git.io/JJkYN\")\n",
        "    labels = response.text.split(\"\\n\")\n",
        "\n",
        "    # 画像分類を行う関数を定義\n",
        "    @torch.no_grad()\n",
        "    def inference(input_img):\n",
        "        print(\"inference\")\n",
        "        img = Image.fromarray(input_img.astype(\"uint8\"), \"RGB\")\n",
        "        print(\"test\")\n",
        "\n",
        "                # # 前処理\n",
        "        img = F.resize(img, (224, 224))\n",
        "        img = F.to_tensor(img)\n",
        "        img = img.unsqueeze(0)\n",
        "        img = F.normalize(\n",
        "            img,\n",
        "            mean=[0.485, 0.456, 0.406],\n",
        "            std=[0.229, 0.224, 0.225],\n",
        "        )\n",
        "\n",
        "        # # 推論\n",
        "        output = model(img).squeeze(0)\n",
        "        probs = nn.functional.softmax(output, dim=0).numpy()\n",
        "\n",
        "        # # ラベルごとの確率をdictとして返す\n",
        "        return {labels[i]: float(probs[i]) for i in range(1000)}\n",
        "        # return sepia_img\n",
        "\n",
        "    # 入力の形式を画像とする\n",
        "    inputs = gr.Image(label=\"Image\")\n",
        "    # 出力はラベル形式で，top5まで表示する\n",
        "    outputs = gr.Label(num_top_classes=5)\n",
        "    # サーバーの立ち上げ\n",
        "    interface = gr.Interface(inference, gr.Image(), outputs=outputs)\n",
        "    interface.launch()\n",
        "\n",
        "if __name__ == \"__main__\":\n",
        "    main()"
      ],
      "metadata": {
        "id": "Iq-PYEEmCbSG"
      },
      "execution_count": null,
      "outputs": []
    }
  ]
}