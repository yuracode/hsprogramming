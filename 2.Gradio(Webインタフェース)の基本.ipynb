{
  "nbformat": 4,
  "nbformat_minor": 0,
  "metadata": {
    "colab": {
      "provenance": [],
      "toc_visible": true,
      "include_colab_link": true
    },
    "kernelspec": {
      "name": "python3",
      "display_name": "Python 3"
    },
    "language_info": {
      "name": "python"
    }
  },
  "cells": [
    {
      "cell_type": "markdown",
      "metadata": {
        "id": "view-in-github",
        "colab_type": "text"
      },
      "source": [
        "<a href=\"https://colab.research.google.com/github/yuracode/hsprogramming/blob/main/2.Gradio(Web%E3%82%A4%E3%83%B3%E3%82%BF%E3%83%95%E3%82%A7%E3%83%BC%E3%82%B9)%E3%81%AE%E5%9F%BA%E6%9C%AC.ipynb\" target=\"_parent\"><img src=\"https://colab.research.google.com/assets/colab-badge.svg\" alt=\"Open In Colab\"/></a>"
      ]
    },
    {
      "cell_type": "markdown",
      "source": [
        "# Gradioを使ったインタフェースを作ります。\n",
        "\n",
        "Gradio？というかたは「[Gradioとは？](https://www.google.co.jp/search?client=ubuntu&channel=fs&q=gradio%E3%81%A8%E3%81%AF%EF%BC%9F&ie=utf-8&oe=utf-8&hl=ja)」で検索してみましょう。\n",
        "\n",
        "https://www.gradio.app/"
      ],
      "metadata": {
        "id": "ZNlnk7XZVkwm"
      }
    },
    {
      "cell_type": "markdown",
      "source": [
        "## 最初に環境設定を行います\n",
        "Gradio（グラディオ）は入出力や機械学習に最適化できるシステム開発環境を提供してくれます。\n",
        "\n",
        "最初に次のコードを実行して環境を設定します。"
      ],
      "metadata": {
        "id": "qZV5ZnRUVphb"
      }
    },
    {
      "cell_type": "code",
      "execution_count": null,
      "metadata": {
        "id": "VMouqhSRVRbl"
      },
      "outputs": [],
      "source": [
        "!pip install gradio -qq"
      ]
    },
    {
      "cell_type": "markdown",
      "source": [
        "## インタフェースを使ったprogrammingの基本\n",
        "\n",
        "文字列の入力と出力をしてみましょう。\n",
        "入力用エリアと出力用エリアを使ってみましょう。"
      ],
      "metadata": {
        "id": "Id-s1xFCVisX"
      }
    },
    {
      "cell_type": "code",
      "source": [
        "# Gradioライブラリを`gr`という短い名前でインポートします。\n",
        "# Gradioは、簡単にWebのUI（見た目や操作部分）を作成できるライブラリです。\n",
        "import gradio as gr\n",
        "\n",
        "# `greet`という名前の関数を定義します。この関数は`name`という文字データを受け取ります。\n",
        "# 関数とは、一連の処理を一つにまとめたものです。\n",
        "def greet(name):\n",
        "    # 受け取った`name`の前後に文字を足して、\"Hello (name)!\"という挨拶文を返します。\n",
        "    return \"Hello \" + name + \"!\"\n",
        "\n",
        "# GradioのInterfaceを使い、Web UIの設計を行います。\n",
        "# `fn`には処理を行う関数、`inputs`と`outputs`には入出力の形式を指定します。\n",
        "demo = gr.Interface(fn=greet, inputs=\"text\", outputs=\"text\")\n",
        "\n",
        "# 作成したWeb UIを起動します。\n",
        "demo.launch()"
      ],
      "metadata": {
        "id": "F_WfhckuVUBC"
      },
      "execution_count": null,
      "outputs": []
    },
    {
      "cell_type": "markdown",
      "source": [
        "## テキストとスライダーを使ってみよう"
      ],
      "metadata": {
        "id": "KPTIMV9XthVl"
      }
    },
    {
      "cell_type": "code",
      "source": [
        "# Gradioライブラリを`gr`という短い名前でインポートします。\n",
        "# Gradioは、簡単にWebのUI（見た目や操作部分）を作成できるライブラリです。\n",
        "import gradio as gr\n",
        "\n",
        "# 挨拶を生成する`greet`関数を定義します。\n",
        "# 今回は名前(`name`)と、感嘆符の数(`intensity`)の2つの引数を受け取ります。\n",
        "def greet(name, intensity):\n",
        "    # `intensity`の数だけ\"!\"を繰り返し、挨拶文を作成して返します。\n",
        "    # `*`演算子は文字列を繰り返す働きをします。`int()`はスライダーの値を整数に変換します。\n",
        "    return \"Hello, \" + name + \"!\" * int(intensity)\n",
        "\n",
        "# GradioのInterfaceを使い、Web UIの設計を行います。\n",
        "# slide = gr.Slider(minimum=1, maximum=10, step=1, label=\"繰り返し\")\n",
        "demo = gr.Interface(\n",
        "    fn=greet,\n",
        "    # 入力部品(`inputs`)として、テキストボックス(`text`)とスライダー(`slider`)を指定します。\n",
        "    # 複数の部品を指定する場合は、このようにリスト形式で記述します。\n",
        "\n",
        "    # inputs=[\"text\", slide ],\n",
        "    inputs = [\"text\"],\n",
        "    # 出力部品(`outputs`)として、テキストボックスを指定します。\n",
        "    outputs=[\"text\"],\n",
        ")\n",
        "\n",
        "# 作成したWeb UIを起動します。\n",
        "demo.launch()"
      ],
      "metadata": {
        "id": "8ghd7SKOtgES"
      },
      "execution_count": null,
      "outputs": []
    },
    {
      "cell_type": "markdown",
      "source": [
        "## 入力エリアにラベルを追加しよう\n",
        "\n",
        "見た目を整えてみましょう。\n"
      ],
      "metadata": {
        "id": "bdjHyQUnXcTZ"
      }
    },
    {
      "cell_type": "code",
      "source": [
        "import gradio as gr\n",
        "\n",
        "def greet(name): #挨拶という意味\n",
        "    return \"Hello \" + name + \"!\"\n",
        "\n",
        "# 入力エリアにラベルを追加\n",
        "name = gr.Textbox(label=\"\")\n",
        "output = gr.Textbox(label=\"\")\n",
        "\n",
        "#inputs,outputsにラベルを設定したものを使う\n",
        "demo = gr.Interface(fn=greet, inputs=name, outputs=output)\n",
        "\n",
        "demo.launch()"
      ],
      "metadata": {
        "id": "n_c-U9p0W37T"
      },
      "execution_count": null,
      "outputs": []
    },
    {
      "cell_type": "markdown",
      "source": [
        "## 苗字と名前を入力してみよう\n",
        "\n",
        "入力エリアを２つにしてみましょう。"
      ],
      "metadata": {
        "id": "a6KlxITQXt3l"
      }
    },
    {
      "cell_type": "code",
      "source": [
        "# Gradioライブラリを`gr`という短い名前でインポートします。\n",
        "# Gradioは、簡単にWebのUI（見た目や操作部分）を作成できるライブラリです。\n",
        "import gradio as gr\n",
        "\n",
        "# ----------------------------------------------------\n",
        "# 挨拶文を作るための関数（命令のセット）を定義します。\n",
        "# ----------------------------------------------------\n",
        "\n",
        "# 元のプログラムで使っていた、名前を１つ受け取る関数\n",
        "def greet(name):\n",
        "    return \"Hello \" + name + \"!\"\n",
        "\n",
        "# 【新しく追加】苗字(last_name)と名前(first_name)の２つを受け取る関数\n",
        "# こちらが今回「お名前は〜」の文章を作るための関数です。\n",
        "def full_name_greet(last_name, first_name):\n",
        "    return \"お名前は　\" + last_name + \"　\" + first_name + \"さん　ですね\"\n",
        "\n",
        "\n",
        "# -------------------------------------------------------------\n",
        "# Web UI（見た目）の設計部分\n",
        "# どちらか一方のパターンのコメントを外して、プログラムの動きを変えてみましょう。\n",
        "# -------------------------------------------------------------\n",
        "\n",
        "# --- パターンA：名前を1つだけ入力するバージョン（元のプログラム） ---\n",
        "# こちらが現在有効になっている設定です。\n",
        "name = gr.Textbox(label=\"名前\")\n",
        "output = gr.Textbox(label=\"あいさつ\")\n",
        "demo = gr.Interface(fn=greet, inputs=name, outputs=output)\n",
        "\n",
        "\n",
        "# --- パターンB：苗字と名前を2つ入力するバージョン（新しいプログラム） ---\n",
        "# こちらを試す場合は、上の「パターンA」の3行の先頭に # をつけてコメントにし、\n",
        "# 以下の4行の先頭にある # をすべて消して有効にしてください。\n",
        "\n",
        "# last_name_input = gr.Textbox(label=\"苗字\")\n",
        "# first_name_input = gr.Textbox(label=\"名前\")\n",
        "# output_message = gr.Textbox(label=\"確認メッセージ\")\n",
        "# demo = gr.Interface(fn=full_name_greet, inputs=[last_name_input, first_name_input], outputs=output_message)\n",
        "\n",
        "\n",
        "# 作成したWeb UIを起動します。\n",
        "demo.launch()"
      ],
      "metadata": {
        "id": "yapWOv3SX0Cy"
      },
      "execution_count": null,
      "outputs": []
    },
    {
      "cell_type": "markdown",
      "source": [
        "# 少しだけ使えそうなことをやってみましょう。\n",
        "\n"
      ],
      "metadata": {
        "id": "izq1o4qJufFg"
      }
    },
    {
      "cell_type": "code",
      "source": [
        "# Gradioと、日付や時刻を扱うための`datetime`ライブラリをインポートします。\n",
        "import gradio as gr\n",
        "from datetime import datetime\n",
        "\n",
        "# 名前と年月日を受け取り、メッセージを返す`birthofday`関数を定義します。\n",
        "def birthofday(name,year,month,day):\n",
        "    # 現在は、受け取った名前と誕生日を文章にして返す処理のみが有効になっています。\n",
        "    return \"こんにちは \" + name + \"さん!\\n\" + \\\n",
        "      \"あなたの生まれた日は\" + str(year) + \"年\" + str(month) + \"月\" + str(day) + \"日です。\"\n",
        "    # # --- 以下は現在使われていないコード（コメントアウト）---\n",
        "    # #現在の日付\n",
        "    # today = datetime.today()\n",
        "    # #生年月日\n",
        "    # birthday = datetime(year,month,day)\n",
        "    # #経過日数計算\n",
        "    # ans = today - birthday\n",
        "    # return name + \"さんは生まれてから\" + str(ans.days) + \"日です。\"\n",
        "\n",
        "# `gr.Textbox`を使い、名前を入力するためのテキストボックス部品を作成します。\n",
        "name = gr.Textbox(label=\"お名前をどうぞ\")\n",
        "# --- 以下は現在使われていない部品の定義（コメントアウト）---\n",
        "# `gr.Number`は数値入力用の部品です。最小/最大値や初期値も設定できます。\n",
        "# year = gr.Number(label=\"生まれた年\",minimum=1970,maximum=2024,value=2006)\n",
        "# month = gr.Number(label=\"生まれた月\",minimum=1,maximum=12,value=6)\n",
        "# day = gr.Number(label=\"生まれた日\",minimum=1,maximum=31,value=15)\n",
        "\n",
        "# 出力用のテキストボックス部品を作成します。\n",
        "output = gr.Textbox(label=\"結果・・・\")\n",
        "\n",
        "# UIを設計します。fnには関数を、inputsとoutputsには使用する部品を指定します。\n",
        "# （補足）現在のinputsはnameのみです。このままだと4つの引数が必要な関数を正しく呼び出せません。\n",
        "# inputs=[name,year,month,day]に変更しましょう\n",
        "demo = gr.Interface(fn=birthofday, inputs=[name], outputs=output)\n",
        "\n",
        "# 作成したWeb UIを起動します。\n",
        "demo.launch()"
      ],
      "metadata": {
        "id": "JBOLcnBnukAb"
      },
      "execution_count": null,
      "outputs": []
    },
    {
      "cell_type": "markdown",
      "source": [
        "## 色を変えてみよう\n",
        "\n",
        "スライダーを使って光の三原色を変更してみましょう。"
      ],
      "metadata": {
        "id": "NFe9Ia-6ZnkG"
      }
    },
    {
      "cell_type": "code",
      "source": [
        "# Gradioライブラリと、画像処理ライブラリPillow(PIL)をインポートします。\n",
        "import gradio as gr\n",
        "from PIL import Image, ImageDraw, ImageFont\n",
        "\n",
        "# Pillowを使い、幅500x高さ300の黒い画像(`im`)をメモリ上に作成します。\n",
        "# この画像が出力エリアの初期状態になります。\n",
        "im = Image.new('RGB', (500, 300),( 0, 0, 0))\n",
        "# 作成した画像に図形などを描画するための`draw`オブジェクトを用意します。\n",
        "draw = ImageDraw.Draw(im)\n",
        "\n",
        "# スライダーの値が変更されたときに呼び出される`change`関数を定義します。\n",
        "def change(red,green,blue):\n",
        "    # 画像全体を、引数で受け取った赤緑青(`red`, `green`, `blue`)の値で塗りつぶします。\n",
        "    draw.rectangle((0, 0, 500, 300), fill=(red, green, blue))\n",
        "    # 変更後の画像を関数の結果として返します。\n",
        "    return im\n",
        "\n",
        "# 光の三原色である赤・緑・青の値を、それぞれ0から255の範囲で調整するスライダー部品を作成します。\n",
        "# red = gr.Slider(label = \"赤\",minimum=0,maximum=255)\n",
        "# green = gr.Slider(label = \"緑\",minimum=0,maximum=255)\n",
        "# blue = gr.Slider(label = \"青\",minimum=0,maximum=255)\n",
        "\n",
        "# 出力用のイメージ部品を作成します。\n",
        "# `type='pil'`と指定することで、Pillowの画像オブジェクトを直接扱えるようになります。\n",
        "output = gr.Image(im,type='pil')\n",
        "\n",
        "# UIを設計します。`inputs`に3つのスライダーを、`outputs`にイメージ部品を指定します。\n",
        "# `live=True`にすると、スライダーを動かすたびにリアルタイムで色が更新されます。\n",
        "\n",
        "# sliderを有効にするには inputs=[red,green,blue]に変更します\n",
        "# demo = gr.Interface(fn=change, inputs=[\"slider\",\"slider\",\"slider\"], outputs=output,live=True)\n",
        "demo = gr.Interface(fn=change, inputs=[], outputs=output)\n",
        "\n",
        "# 作成したWeb UIを起動します。\n",
        "demo.launch()"
      ],
      "metadata": {
        "id": "WQaPOcF0ZrMe"
      },
      "execution_count": null,
      "outputs": []
    },
    {
      "cell_type": "markdown",
      "source": [
        "## タブを作ってみよう\n",
        "\n",
        "タブを作って画面を切り替えてみましょう\n"
      ],
      "metadata": {
        "id": "cbvdeBjVCbRd"
      }
    },
    {
      "cell_type": "code",
      "source": [
        "# Gradioライブラリを`gr`という短い名前でインポートします。\n",
        "# Gradioは、簡単にWebのUI（見た目や操作部分）を作成できるライブラリです。\n",
        "import gradio as gr\n",
        "\n",
        "# タブ1で実行される関数を定義します。\n",
        "def tab1_content(text):\n",
        "    # f-string（フォーマット済み文字列リテラル）を使って、受け取ったテキストをメッセージに埋め込んでいます。\n",
        "    return f\"タブ1にようこそ！入力されたテキスト: {text}\"\n",
        "\n",
        "# こちらはタブ2で実行される関数です。\n",
        "def tab2_content(name):\n",
        "    return f\"タブ2にようこそ、{name}さん！\"\n",
        "\n",
        "# `gr.Interface`を使い、タブ1の中身となるUIを作成します。\n",
        "# この時点では、まだ単体のインターフェースです。\n",
        "tab1_interface = gr.Interface(\n",
        "    fn=tab1_content,\n",
        "    inputs=gr.Textbox(label=\"タブ1への入力\"),\n",
        "    outputs=\"text\",\n",
        "    title=\"タブ1\"\n",
        ")\n",
        "\n",
        "# 同様に、タブ2の中身となるUIも作成します。\n",
        "tab2_interface = gr.Interface(\n",
        "    fn=tab2_content,\n",
        "    inputs=gr.Textbox(label=\"お名前を入力してください\"),\n",
        "    outputs=\"text\",\n",
        "    title=\"タブ2\"\n",
        ")\n",
        "\n",
        "# `gr.TabbedInterface`を使い、複数のUIをタブで切り替えられるように統合します。\n",
        "# 作成済みのUIのリストと、各タブに表示する名前のリストを渡します。\n",
        "demo = gr.TabbedInterface(\n",
        "    [tab1_interface, tab2_interface],\n",
        "    [\"タブ1\", \"タブ2\"]\n",
        ")\n",
        "\n",
        "# 作成したタブ形式のWeb UIを起動します。\n",
        "demo.launch()"
      ],
      "metadata": {
        "id": "a2TnBvtqCiZI"
      },
      "execution_count": null,
      "outputs": []
    },
    {
      "cell_type": "markdown",
      "source": [
        "## ラジオボタンをつかってみよう\n",
        "\n",
        "ラジオボタンを使って計算してみましょう。"
      ],
      "metadata": {
        "id": "vLsXuSPYeWrE"
      }
    },
    {
      "cell_type": "code",
      "source": [
        "# Gradioライブラリを`gr`という短い名前でインポートします。\n",
        "# Gradioは、簡単にWebのUI（見た目や操作部分）を作成できるライブラリです。\n",
        "import gradio as gr\n",
        "\n",
        "# 計算を行う`calc`関数を定義します。2つの数値と演算子(`ope`)を受け取ります。\n",
        "def calc(num1, ope, num2):\n",
        "    # 演算子(`ope`)が \"add\" の場合、足し算の結果を文字列に変換して返します。\n",
        "    if ope == \"add\":\n",
        "        return str(num1 + num2)\n",
        "    # elif ope == \"\": # subが引き算\n",
        "    #     return str(num1 - num2)\n",
        "    # elif ope == \"\": # mulが掛け算\n",
        "    #     return str(num1 * num2)\n",
        "    # elif ope == \"\": # divが割り算\n",
        "    #     return str(num1 / num2)\n",
        "\n",
        "    # 上記のどの条件にも当てはまらない場合、0を返します。\n",
        "    return 0\n",
        "\n",
        "# `gr.Radio`を使い、選択肢から一つを選ぶラジオボタン部品を作成します。\n",
        "# 選択肢として`[\"add\"]`を設定し、`value=`で \"add\" を初期値にしています。\n",
        "radio = gr.Radio([\"add\"], value = \"add\")\n",
        "\n",
        "# 電卓のUIを設計します。`inputs`に数値、ラジオボタン、数値の順で部品を並べます。\n",
        "# `live=True`にすると、値を変更するたびに自動で計算が実行されます（リアルタイム更新）。\n",
        "demo = gr.Interface(fn=calc, inputs=[\"number\",radio,\"number\"], outputs=\"text\",live=True)\n",
        "\n",
        "# 作成したWeb UIを起動します。\n",
        "demo.launch()"
      ],
      "metadata": {
        "id": "DNGBCi0seaFr"
      },
      "execution_count": null,
      "outputs": []
    },
    {
      "cell_type": "markdown",
      "source": [
        "## グラフの表示をしてみよう\n",
        "\n",
        "スライダーの値を読み取って棒グラフにしましょう。"
      ],
      "metadata": {
        "id": "uMkFt8bTg-mB"
      }
    },
    {
      "cell_type": "code",
      "source": [
        "# データ分析ライブラリ`pandas`と、Gradioライブラリをインポートします。\n",
        "import pandas as pd\n",
        "import gradio as gr\n",
        "\n",
        "# スライダーの値を受け取り、グラフ用のデータを作成する`plot`関数を定義します。\n",
        "def plot(a,b,c):\n",
        "    # pandasのDataFrame（表形式のデータ構造）を作成して返します。\n",
        "    df = pd.DataFrame({\"x\":['a','b','c'] , \"y\": [a,b,c]})\n",
        "    return df\n",
        "\n",
        "# `gr.Blocks()`を使い、より自由にUIのレイアウトを組み立てていきます。\n",
        "# `gr.Interface`よりも細かく部品の配置や動作を制御できます。\n",
        "with gr.Blocks() as demo:\n",
        "    # `gr.Row()`を使うと、この中に定義した部品（コンポーネント）を横一列に配置できます。\n",
        "    with gr.Row() as row:\n",
        "        # A, B, Cの値を調整する3つのスライダーを定義します。`step`は値の変化の刻み幅です。\n",
        "        A = gr.Slider(label = \"A\",minimum=0, maximum=255, step=5)\n",
        "        B = gr.Slider(label = \"B\",minimum=0, maximum=255, step=5)\n",
        "        C = gr.Slider(label = \"C\",minimum=0, maximum=255, step=5)\n",
        "\n",
        "    # 棒グラフを表示するための`gr.BarPlot`部品を作成します。\n",
        "    # `x`と`y`には、DataFrameのどの列をそれぞれ横軸と縦軸に使うかを指定します。\n",
        "    output = gr.BarPlot(\n",
        "        x=\"x\",\n",
        "        y=\"y\",\n",
        "        tooltip=[\"x\", \"y\"],\n",
        "        width=350,\n",
        "        height=300,\n",
        "    )\n",
        "    # 各スライダーの値が変更(`change`)された時の動作を設定します。\n",
        "    # 3つのスライダーの値を`plot`関数に渡し、結果を`output`(棒グラフ)に反映させます。\n",
        "    A.change(plot, [A, B, C], output)\n",
        "    B.change(plot, [A, B, C], output)\n",
        "    C.change(plot, [A, B, C], output)\n",
        "\n",
        "# 作成したWeb UIを起動します。\n",
        "demo.launch()"
      ],
      "metadata": {
        "id": "FFDpHJ6wg9wO"
      },
      "execution_count": null,
      "outputs": []
    },
    {
      "cell_type": "markdown",
      "source": [
        "## 画像の読み込みをしてみよう\n",
        "\n",
        "画像を読み込んでセピア色に変えてみます。"
      ],
      "metadata": {
        "id": "WMdPEmobBalb"
      }
    },
    {
      "cell_type": "code",
      "source": [
        "# 数値計算ライブラリ`Numpy`と、Gradioライブラリをインポートします。\n",
        "import numpy as np\n",
        "import gradio as gr\n",
        "\n",
        "# 入力画像(`input_img`)をセピア調に変換する`sepia`関数を定義します。\n",
        "# Gradioは、入力画像を自動でNumpy配列（数値の集まり）に変換してくれます。\n",
        "def sepia(input_img):\n",
        "    # セピア調に変換するための計算式（セピアフィルター）を、Numpyの行列として定義します。\n",
        "    sepia_filter = np.array([\n",
        "        [0.393, 0.769, 0.189],\n",
        "        [0.349, 0.686, 0.168],\n",
        "        [0.272, 0.534, 0.131]\n",
        "    ])\n",
        "    # 入力画像の各ピクセルの色情報とフィルターで行列計算を行い、新しい色情報を作り出します。\n",
        "    sepia_img = input_img.dot(sepia_filter.T)\n",
        "    # 計算結果の色の値が最大値を超えないように、全ての値を規格化（正規化）します。\n",
        "    # これにより、画像が白飛びなどせず正しく表示されるようになります。\n",
        "    sepia_img /= sepia_img.max()\n",
        "    # 処理後の画像データを返します。\n",
        "    return sepia_img\n",
        "\n",
        "# 画像処理用のUIを設計します。\n",
        "# `gr.Image()`を使うと、ドラッグ＆ドロップ等が可能な画像入力エリアが作成されます。\n",
        "demo = gr.Interface(sepia, gr.Image(), outputs=\"image\")\n",
        "\n",
        "# 作成したWeb UIを起動します。\n",
        "demo.launch()"
      ],
      "metadata": {
        "id": "loglWHN2BSQk"
      },
      "execution_count": null,
      "outputs": []
    },
    {
      "cell_type": "code",
      "source": [
        "!wget -P img https://cybersimg.s3.ap-northeast-1.amazonaws.com/title01.jpg\n",
        "!wget -P img https://cybersimg.s3.ap-northeast-1.amazonaws.com/title02.jpg"
      ],
      "metadata": {
        "id": "PeCCb13vJun_"
      },
      "execution_count": null,
      "outputs": []
    },
    {
      "cell_type": "code",
      "source": [
        "# 数値計算ライブラリ`Numpy`と、Gradioライブラリをインポートします。\n",
        "import numpy as np\n",
        "import gradio as gr\n",
        "from PIL import Image  # ←これが必要！\n",
        "# =============================================================\n",
        "# Gradioで画像加工アプリを作ろう！\n",
        "# =============================================================\n",
        "# 画像を回転させる処理を「関数」として定義します\n",
        "def rotate_image(image, angle):\n",
        "  \"\"\"\n",
        "  受け取った画像を、指定された角度だけ回転させる関数\n",
        "  \"\"\"\n",
        "  # Gradioから渡されるimageはNumpy配列なので、PillowのImageオブジェクトに変換\n",
        "  pil_img = Image.fromarray(image)\n",
        "  # 回転処理\n",
        "  rotated_img = pil_img.rotate(angle, expand=True)\n",
        "  return rotated_img\n",
        "\n",
        "# GradioのUI（ユーザーインターフェース）を定義します\n",
        "demo = gr.Interface(\n",
        "    fn=rotate_image, # 実行する関数\n",
        "    inputs=[\n",
        "        gr.Image(label=\"画像をアップロード\"), # 画像アップロード用の入力\n",
        "        gr.Slider(minimum=0, maximum=100, value=0, label=\"回転角度\") # 角度調整用のスライダー入力\n",
        "    ],\n",
        "    outputs=gr.Image(label=\"加工後の画像\"), # 画像表示用の出力\n",
        "    title=\"かんたん画像回転アプリ\",\n",
        "    description=\"画像をアップロードして、スライダーで角度を調整してみよう！\",\n",
        "    live=True # スライダーを動かすとリアルタイムで反映される\n",
        ")\n",
        "\n",
        "# アプリを起動します\n",
        "# demo.launch() # この行の先頭の#を消すとアプリが起動します"
      ],
      "metadata": {
        "id": "BD8c-x_BXOTe"
      },
      "execution_count": 5,
      "outputs": []
    },
    {
      "cell_type": "markdown",
      "source": [
        "## AIによる判定を作ってみよう\n",
        "\n",
        "学習済みモデルのニューラルネットワークを使って画像を読み込んで解析してみましょう。"
      ],
      "metadata": {
        "id": "EPQtGOOcCGHt"
      }
    },
    {
      "cell_type": "code",
      "source": [
        "import torch\n",
        "import torch.nn as nn\n",
        "import torchvision.transforms.functional as F\n",
        "from torchvision.models import resnet50\n",
        "from PIL import Image\n",
        "import gradio as gr\n",
        "import requests\n",
        "import numpy as np\n",
        "\n",
        "# モデルの準備\n",
        "model = resnet50(pretrained=True)\n",
        "model.eval()\n",
        "\n",
        "# ImageNetのラベルの取得\n",
        "response = requests.get(\"https://git.io/JJkYN\")\n",
        "labels = response.text.split(\"\\n\")\n",
        "\n",
        "# 画像分類を行う関数\n",
        "@torch.no_grad()\n",
        "def inference(input_img):\n",
        "    if input_img is None:\n",
        "        return {}\n",
        "\n",
        "    # Numpy配列 → Pillow画像に変換\n",
        "    img = Image.fromarray(np.uint8(input_img)).convert(\"RGB\")\n",
        "\n",
        "    # 前処理\n",
        "    img = F.resize(img, (224, 224))\n",
        "    img = F.to_tensor(img)\n",
        "    img = img.unsqueeze(0)\n",
        "    img = F.normalize(\n",
        "        img,\n",
        "        mean=[0.485, 0.456, 0.406],\n",
        "        std=[0.229, 0.224, 0.225],\n",
        "    )\n",
        "\n",
        "    # 推論\n",
        "    output = model(img).squeeze(0)\n",
        "    probs = nn.functional.softmax(output, dim=0).numpy()\n",
        "\n",
        "    # ラベルと確率をdict形式で返す\n",
        "    return {}\n",
        "    # return {labels[i]: float(probs[i]) for i in range(1000)}\n",
        "\n",
        "# GradioのUI設定\n",
        "demo = gr.Interface(\n",
        "    fn=inference,\n",
        "    inputs=gr.Image(label=\"画像をアップロード\"),\n",
        "    outputs=gr.Label(num_top_classes=5),\n",
        "    title=\"画像分類デモ（ResNet50）\",\n",
        "    description=\"ImageNetで学習済みのResNet50モデルを使って画像分類を行います。\",\n",
        ")\n",
        "\n",
        "# 起動\n",
        "# demo.launch()"
      ],
      "metadata": {
        "id": "Iq-PYEEmCbSG",
        "outputId": "f5ca6d5e-0371-4a35-994d-a069ad333b47",
        "colab": {
          "base_uri": "https://localhost:8080/",
          "height": 724
        }
      },
      "execution_count": 10,
      "outputs": [
        {
          "output_type": "stream",
          "name": "stderr",
          "text": [
            "/usr/local/lib/python3.12/dist-packages/torchvision/models/_utils.py:208: UserWarning: The parameter 'pretrained' is deprecated since 0.13 and may be removed in the future, please use 'weights' instead.\n",
            "  warnings.warn(\n",
            "/usr/local/lib/python3.12/dist-packages/torchvision/models/_utils.py:223: UserWarning: Arguments other than a weight enum or `None` for 'weights' are deprecated since 0.13 and may be removed in the future. The current behavior is equivalent to passing `weights=ResNet50_Weights.IMAGENET1K_V1`. You can also use `weights=ResNet50_Weights.DEFAULT` to get the most up-to-date weights.\n",
            "  warnings.warn(msg)\n"
          ]
        },
        {
          "output_type": "stream",
          "name": "stdout",
          "text": [
            "It looks like you are running Gradio on a hosted Jupyter notebook, which requires `share=True`. Automatically setting `share=True` (you can turn this off by setting `share=False` in `launch()` explicitly).\n",
            "\n",
            "Colab notebook detected. To show errors in colab notebook, set debug=True in launch()\n",
            "* Running on public URL: https://79bb0419482873fd74.gradio.live\n",
            "\n",
            "This share link expires in 1 week. For free permanent hosting and GPU upgrades, run `gradio deploy` from the terminal in the working directory to deploy to Hugging Face Spaces (https://huggingface.co/spaces)\n"
          ]
        },
        {
          "output_type": "display_data",
          "data": {
            "text/plain": [
              "<IPython.core.display.HTML object>"
            ],
            "text/html": [
              "<div><iframe src=\"https://79bb0419482873fd74.gradio.live\" width=\"100%\" height=\"500\" allow=\"autoplay; camera; microphone; clipboard-read; clipboard-write;\" frameborder=\"0\" allowfullscreen></iframe></div>"
            ]
          },
          "metadata": {}
        },
        {
          "output_type": "execute_result",
          "data": {
            "text/plain": []
          },
          "metadata": {},
          "execution_count": 10
        }
      ]
    }
  ]
}